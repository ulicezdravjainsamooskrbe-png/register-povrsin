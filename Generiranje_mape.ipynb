{
  "nbformat": 4,
  "nbformat_minor": 0,
  "metadata": {
    "colab": {
      "provenance": [],
      "authorship_tag": "ABX9TyOEgjfm5YHc3UU47+M9fueq",
      "include_colab_link": true
    },
    "kernelspec": {
      "name": "python3",
      "display_name": "Python 3"
    },
    "language_info": {
      "name": "python"
    }
  },
  "cells": [
    {
      "cell_type": "markdown",
      "metadata": {
        "id": "view-in-github",
        "colab_type": "text"
      },
      "source": [
        "<a href=\"https://colab.research.google.com/github/ulicezdravjainsamooskrbe-png/register-povrsin/blob/main/Generiranje_mape.ipynb\" target=\"_parent\"><img src=\"https://colab.research.google.com/assets/colab-badge.svg\" alt=\"Open In Colab\"/></a>"
      ]
    },
    {
      "cell_type": "code",
      "execution_count": 1,
      "metadata": {
        "colab": {
          "base_uri": "https://localhost:8080/"
        },
        "id": "JJMBWtIwxqz7",
        "outputId": "5aa3d3ba-f810-46dd-e56b-aeef68694cd7"
      },
      "outputs": [
        {
          "output_type": "stream",
          "name": "stdout",
          "text": [
            "Map created successfully! Open 'index.html' in your web browser.\n"
          ]
        }
      ],
      "source": [
        "import pandas as pd\n",
        "import folium\n",
        "import gspread\n",
        "import os\n",
        "\n",
        "# Authorize gspread using your service account credentials\n",
        "gc = gspread.service_account(filename='credentials.json')\n",
        "\n",
        "# List of your spreadsheet URLs or titles\n",
        "spreadsheet_urls = [\n",
        "    \"https://docs.google.com/spreadsheets/d/1Zul-oksSymdDdcKc8KgHx4_ruIGtPzwp0r9z3-21DHE/edit\",\n",
        "    \"https://docs.google.com/spreadsheets/d/1sfSGx9Tmu-t1SaHcM8w0vyou_p42ur2QYZywBPo_AqU/edit\",\n",
        "    \"https://docs.google.com/spreadsheets/d/1zsIpk5qbVlgFY06GXRxlzmbgUEaeLDJhohvuX6oHUZs/edit\"\n",
        "]\n",
        "\n",
        "colors = ['blue', 'red', 'green', 'orange', 'purple', 'darkred', 'lightred', 'beige']\n",
        "icons = ['info', 'star', 'leaf', 'map-marker', 'camera', 'home', 'cloud', 'heart']\n",
        "\n",
        "\n",
        "# Create a base map\n",
        "map_center = [46.167, 14.305]\n",
        "my_map = folium.Map(location=map_center,\n",
        "    zoom_start=12,\n",
        "    tiles='https://mt1.google.com/vt/lyrs=y&x={x}&y={y}&z={z}',\n",
        "    attr='Google Maps')\n",
        "\n",
        "# Add the Google Satellite layer with a custom name\n",
        "google_satellite = folium.TileLayer(\n",
        "    tiles='https://mt1.google.com/vt/lyrs=s&x={x}&y={y}&z={z}',\n",
        "    attr='Google',\n",
        "    name='Google Satellite' # This name will show up in the layer control\n",
        ").add_to(my_map)\n",
        "\n",
        "# Add the Google Hybrid layer as another option\n",
        "google_hybrid = folium.TileLayer(\n",
        "    tiles='https://mt1.google.com/vt/lyrs=y&x={x}&y={y}&z={z}',\n",
        "    attr='Google',\n",
        "    name='Google Hybrid',\n",
        "    retina=True\n",
        ").add_to(my_map)\n",
        "\n",
        "# Process each spreadsheet\n",
        "for i, url in enumerate(spreadsheet_urls):\n",
        "\n",
        "    # Get the color for the current spreadsheet\n",
        "    # The modulo operator (%) ensures we don't go out of bounds if there are more URLs than colors\n",
        "    marker_color = colors[i % len(colors)]\n",
        "    icon = icons[i % len(icons)]\n",
        "\n",
        "    try:\n",
        "        # Open the spreadsheet by URL\n",
        "        sh = gc.open_by_url(url)\n",
        "\n",
        "        # Extract the title from the spreadsheet object\n",
        "        spreadsheet_name = sh.title\n",
        "\n",
        "        # Create a FeatureGroup with the spreadsheet's actual title as the name\n",
        "        feature_group = folium.FeatureGroup(name=spreadsheet_name).add_to(my_map)\n",
        "\n",
        "        worksheet = sh.get_worksheet(0) # Assumes your data is on the first sheet (index 0)\n",
        "\n",
        "        # Get all records as a list of dictionaries\n",
        "        data = worksheet.get_all_records()\n",
        "        df = pd.DataFrame(data)\n",
        "\n",
        "        # Add a marker for each row in the DataFrame\n",
        "        for index, row in df.iterrows():\n",
        "            lat = row.get('x')\n",
        "            lon = row.get('y')\n",
        "            title = row.get('title', 'No Title')\n",
        "            comment = row.get('comment', 'No Comment')\n",
        "            image_url = row.get('imageUrl', None)\n",
        "\n",
        "            if pd.isna(lat) or pd.isna(lon):\n",
        "                continue\n",
        "\n",
        "            html_content = f\"<h3>{title}</h3><p>{comment}</p>\"\n",
        "            if pd.notna(image_url):\n",
        "                html_content += f'<img src=\"{image_url}\" width=\"250\">'\n",
        "\n",
        "            folium.Marker(\n",
        "                location=[lat, lon],\n",
        "                popup=folium.Popup(html_content, max_width=300),\n",
        "                tooltip=title,\n",
        "                icon=folium.Icon(color=marker_color, icon=icon, prefix='fa')\n",
        "            ).add_to(feature_group)\n",
        "\n",
        "    except gspread.exceptions.SpreadsheetNotFound:\n",
        "        print(f\"Spreadsheet not found at URL: {url}. Please ensure the URL is correct and shared with the service account.\")\n",
        "        continue\n",
        "    except Exception as e:\n",
        "        print(f\"An error occurred: {e}\")\n",
        "\n",
        "# Add the layer control to the map\n",
        "folium.LayerControl().add_to(my_map)\n",
        "\n",
        "# Save the map to an HTML file\n",
        "output_file = \"index.html\"\n",
        "my_map.save(output_file)\n",
        "\n",
        "print(f\"Map created successfully! Open '{output_file}' in your web browser.\")"
      ]
    }
  ]
}